{
  "nbformat": 4,
  "nbformat_minor": 0,
  "metadata": {
    "colab": {
      "name": "CS6476FinalProjectCheckpoints.ipynb",
      "provenance": [],
      "collapsed_sections": []
    },
    "kernelspec": {
      "name": "python3",
      "display_name": "Python 3"
    },
    "accelerator": "GPU"
  },
  "cells": [
    {
      "cell_type": "code",
      "metadata": {
        "colab": {
          "base_uri": "https://localhost:8080/"
        },
        "id": "nfCcCct1tjsH",
        "outputId": "f0078c38-f816-450e-ef31-f8eee7cdd877"
      },
      "source": [
        "# link to Google Drive\n",
        "from google.colab import drive\n",
        "drive.mount('/content/drive')"
      ],
      "execution_count": 35,
      "outputs": [
        {
          "output_type": "stream",
          "text": [
            "Drive already mounted at /content/drive; to attempt to forcibly remount, call drive.mount(\"/content/drive\", force_remount=True).\n"
          ],
          "name": "stdout"
        }
      ]
    },
    {
      "cell_type": "code",
      "metadata": {
        "id": "XwqJx56agF0x"
      },
      "source": [
        "# switch to lower TensorFlow version for model & weights saving compatability\n",
        "%tensorflow_version 1.x"
      ],
      "execution_count": 36,
      "outputs": []
    },
    {
      "cell_type": "code",
      "metadata": {
        "colab": {
          "base_uri": "https://localhost:8080/"
        },
        "id": "YV5hkmAlgXBA",
        "outputId": "3650dc9a-02a7-4721-ddb2-6f2768f52e92"
      },
      "source": [
        "# check TensorFlow version\n",
        "import tensorflow\n",
        "print(tensorflow.__version__)"
      ],
      "execution_count": 38,
      "outputs": [
        {
          "output_type": "stream",
          "text": [
            "1.15.2\n"
          ],
          "name": "stdout"
        }
      ]
    },
    {
      "cell_type": "code",
      "metadata": {
        "colab": {
          "base_uri": "https://localhost:8080/"
        },
        "id": "cP8815nJESky",
        "outputId": "cd325f48-9577-4f77-f892-8e8557883c55"
      },
      "source": [
        "# list files in Folder\n",
        "!ls \"/content/drive/My Drive/2019 GT OMSCS/2020 FALL/CS 6476/FinalProject\""
      ],
      "execution_count": 149,
      "outputs": [
        {
          "output_type": "stream",
          "text": [
            "models.py  __pycache__\tsvhnData\n"
          ],
          "name": "stdout"
        }
      ]
    },
    {
      "cell_type": "code",
      "metadata": {
        "colab": {
          "base_uri": "https://localhost:8080/"
        },
        "id": "st9KVknbEZRE",
        "outputId": "1e021d89-6d02-4960-ab74-a319c518a051"
      },
      "source": [
        "# change directory final project folder\n",
        "%cd \"/content/drive/My Drive/2019 GT OMSCS/2020 FALL/CS 6476/FinalProject\"\n",
        "%ls"
      ],
      "execution_count": 150,
      "outputs": [
        {
          "output_type": "stream",
          "text": [
            "/content/drive/My Drive/2019 GT OMSCS/2020 FALL/CS 6476/FinalProject\n",
            "models.py  \u001b[0m\u001b[01;34m__pycache__\u001b[0m/  \u001b[01;34msvhnData\u001b[0m/\n"
          ],
          "name": "stdout"
        }
      ]
    },
    {
      "cell_type": "code",
      "metadata": {
        "colab": {
          "base_uri": "https://localhost:8080/"
        },
        "id": "CIdpZx8MwzcE",
        "outputId": "d6285b7c-ad4d-484a-c02e-7d52db6e2d08"
      },
      "source": [
        "# run python file to visualize model training & evaluating process and\n",
        "# output metric plots, models, and weights files\n",
        "!python3 \"models.py\""
      ],
      "execution_count": 151,
      "outputs": [
        {
          "output_type": "stream",
          "text": [
            "train set size\n",
            "(106659, 32, 32, 1) (106659,)\n",
            "test set size\n",
            "(39100, 32, 32, 1) (39100,)\n",
            "------------initializing model-----------------\n",
            "WARNING:tensorflow:From /tensorflow-1.15.2/python3.6/tensorflow_core/python/ops/resource_variable_ops.py:1630: calling BaseResourceVariable.__init__ (from tensorflow.python.ops.resource_variable_ops) with constraint is deprecated and will be removed in a future version.\n",
            "Instructions for updating:\n",
            "If using Keras pass *_constraint arguments to layers.\n",
            "------------training model-----------------\n",
            "Train on 85327 samples, validate on 21332 samples\n",
            "2020-11-29 22:34:03.402915: I tensorflow/stream_executor/platform/default/dso_loader.cc:44] Successfully opened dynamic library libcuda.so.1\n",
            "2020-11-29 22:34:03.440228: I tensorflow/stream_executor/cuda/cuda_gpu_executor.cc:983] successful NUMA node read from SysFS had negative value (-1), but there must be at least one NUMA node, so returning NUMA node zero\n",
            "2020-11-29 22:34:03.441002: I tensorflow/core/common_runtime/gpu/gpu_device.cc:1639] Found device 0 with properties: \n",
            "name: Tesla T4 major: 7 minor: 5 memoryClockRate(GHz): 1.59\n",
            "pciBusID: 0000:00:04.0\n",
            "2020-11-29 22:34:03.441412: I tensorflow/stream_executor/platform/default/dso_loader.cc:44] Successfully opened dynamic library libcudart.so.10.1\n",
            "2020-11-29 22:34:03.443316: I tensorflow/stream_executor/platform/default/dso_loader.cc:44] Successfully opened dynamic library libcublas.so.10\n",
            "2020-11-29 22:34:03.444990: I tensorflow/stream_executor/platform/default/dso_loader.cc:44] Successfully opened dynamic library libcufft.so.10\n",
            "2020-11-29 22:34:03.445375: I tensorflow/stream_executor/platform/default/dso_loader.cc:44] Successfully opened dynamic library libcurand.so.10\n",
            "2020-11-29 22:34:03.447360: I tensorflow/stream_executor/platform/default/dso_loader.cc:44] Successfully opened dynamic library libcusolver.so.10\n",
            "2020-11-29 22:34:03.448566: I tensorflow/stream_executor/platform/default/dso_loader.cc:44] Successfully opened dynamic library libcusparse.so.10\n",
            "2020-11-29 22:34:03.452392: I tensorflow/stream_executor/platform/default/dso_loader.cc:44] Successfully opened dynamic library libcudnn.so.7\n",
            "2020-11-29 22:34:03.452558: I tensorflow/stream_executor/cuda/cuda_gpu_executor.cc:983] successful NUMA node read from SysFS had negative value (-1), but there must be at least one NUMA node, so returning NUMA node zero\n",
            "2020-11-29 22:34:03.453142: I tensorflow/stream_executor/cuda/cuda_gpu_executor.cc:983] successful NUMA node read from SysFS had negative value (-1), but there must be at least one NUMA node, so returning NUMA node zero\n",
            "2020-11-29 22:34:03.453720: I tensorflow/core/common_runtime/gpu/gpu_device.cc:1767] Adding visible gpu devices: 0\n",
            "2020-11-29 22:34:03.459790: I tensorflow/core/platform/profile_utils/cpu_utils.cc:94] CPU Frequency: 2200000000 Hz\n",
            "2020-11-29 22:34:03.460020: I tensorflow/compiler/xla/service/service.cc:168] XLA service 0x26a8bc0 initialized for platform Host (this does not guarantee that XLA will be used). Devices:\n",
            "2020-11-29 22:34:03.460056: I tensorflow/compiler/xla/service/service.cc:176]   StreamExecutor device (0): Host, Default Version\n",
            "2020-11-29 22:34:03.571961: I tensorflow/stream_executor/cuda/cuda_gpu_executor.cc:983] successful NUMA node read from SysFS had negative value (-1), but there must be at least one NUMA node, so returning NUMA node zero\n",
            "2020-11-29 22:34:03.572722: I tensorflow/compiler/xla/service/service.cc:168] XLA service 0x26a8d80 initialized for platform CUDA (this does not guarantee that XLA will be used). Devices:\n",
            "2020-11-29 22:34:03.572759: I tensorflow/compiler/xla/service/service.cc:176]   StreamExecutor device (0): Tesla T4, Compute Capability 7.5\n",
            "2020-11-29 22:34:03.572945: I tensorflow/stream_executor/cuda/cuda_gpu_executor.cc:983] successful NUMA node read from SysFS had negative value (-1), but there must be at least one NUMA node, so returning NUMA node zero\n",
            "2020-11-29 22:34:03.573501: I tensorflow/core/common_runtime/gpu/gpu_device.cc:1639] Found device 0 with properties: \n",
            "name: Tesla T4 major: 7 minor: 5 memoryClockRate(GHz): 1.59\n",
            "pciBusID: 0000:00:04.0\n",
            "2020-11-29 22:34:03.573589: I tensorflow/stream_executor/platform/default/dso_loader.cc:44] Successfully opened dynamic library libcudart.so.10.1\n",
            "2020-11-29 22:34:03.573622: I tensorflow/stream_executor/platform/default/dso_loader.cc:44] Successfully opened dynamic library libcublas.so.10\n",
            "2020-11-29 22:34:03.573646: I tensorflow/stream_executor/platform/default/dso_loader.cc:44] Successfully opened dynamic library libcufft.so.10\n",
            "2020-11-29 22:34:03.573674: I tensorflow/stream_executor/platform/default/dso_loader.cc:44] Successfully opened dynamic library libcurand.so.10\n",
            "2020-11-29 22:34:03.573701: I tensorflow/stream_executor/platform/default/dso_loader.cc:44] Successfully opened dynamic library libcusolver.so.10\n",
            "2020-11-29 22:34:03.573722: I tensorflow/stream_executor/platform/default/dso_loader.cc:44] Successfully opened dynamic library libcusparse.so.10\n",
            "2020-11-29 22:34:03.573745: I tensorflow/stream_executor/platform/default/dso_loader.cc:44] Successfully opened dynamic library libcudnn.so.7\n",
            "2020-11-29 22:34:03.573819: I tensorflow/stream_executor/cuda/cuda_gpu_executor.cc:983] successful NUMA node read from SysFS had negative value (-1), but there must be at least one NUMA node, so returning NUMA node zero\n",
            "2020-11-29 22:34:03.574407: I tensorflow/stream_executor/cuda/cuda_gpu_executor.cc:983] successful NUMA node read from SysFS had negative value (-1), but there must be at least one NUMA node, so returning NUMA node zero\n",
            "2020-11-29 22:34:03.574931: I tensorflow/core/common_runtime/gpu/gpu_device.cc:1767] Adding visible gpu devices: 0\n",
            "2020-11-29 22:34:03.575014: I tensorflow/stream_executor/platform/default/dso_loader.cc:44] Successfully opened dynamic library libcudart.so.10.1\n",
            "2020-11-29 22:34:03.576125: I tensorflow/core/common_runtime/gpu/gpu_device.cc:1180] Device interconnect StreamExecutor with strength 1 edge matrix:\n",
            "2020-11-29 22:34:03.576157: I tensorflow/core/common_runtime/gpu/gpu_device.cc:1186]      0 \n",
            "2020-11-29 22:34:03.576171: I tensorflow/core/common_runtime/gpu/gpu_device.cc:1199] 0:   N \n",
            "2020-11-29 22:34:03.576287: I tensorflow/stream_executor/cuda/cuda_gpu_executor.cc:983] successful NUMA node read from SysFS had negative value (-1), but there must be at least one NUMA node, so returning NUMA node zero\n",
            "2020-11-29 22:34:03.576863: I tensorflow/stream_executor/cuda/cuda_gpu_executor.cc:983] successful NUMA node read from SysFS had negative value (-1), but there must be at least one NUMA node, so returning NUMA node zero\n",
            "2020-11-29 22:34:03.577389: W tensorflow/core/common_runtime/gpu/gpu_bfc_allocator.cc:39] Overriding allow_growth setting because the TF_FORCE_GPU_ALLOW_GROWTH environment variable is set. Original config value was 0.\n",
            "2020-11-29 22:34:03.577442: I tensorflow/core/common_runtime/gpu/gpu_device.cc:1325] Created TensorFlow device (/job:localhost/replica:0/task:0/device:GPU:0 with 14221 MB memory) -> physical GPU (device: 0, name: Tesla T4, pci bus id: 0000:00:04.0, compute capability: 7.5)\n",
            "Epoch 1/50\n",
            "2020-11-29 22:34:05.625700: I tensorflow/stream_executor/platform/default/dso_loader.cc:44] Successfully opened dynamic library libcublas.so.10\n",
            "2020-11-29 22:34:05.982341: I tensorflow/stream_executor/platform/default/dso_loader.cc:44] Successfully opened dynamic library libcudnn.so.7\n",
            "85327/85327 [==============================] - 51s 599us/sample - loss: 1.1465 - acc: 0.6146 - val_loss: 0.2332 - val_acc: 0.9461\n",
            "Epoch 2/50\n",
            "85327/85327 [==============================] - 47s 554us/sample - loss: 0.3676 - acc: 0.8930 - val_loss: 0.2454 - val_acc: 0.9303\n",
            "Epoch 3/50\n",
            "85327/85327 [==============================] - 47s 548us/sample - loss: 0.2609 - acc: 0.9255 - val_loss: 0.1324 - val_acc: 0.9667\n",
            "Epoch 4/50\n",
            "85327/85327 [==============================] - 47s 552us/sample - loss: 0.2025 - acc: 0.9427 - val_loss: 0.1408 - val_acc: 0.9646\n",
            "Epoch 5/50\n",
            "85327/85327 [==============================] - 47s 550us/sample - loss: 0.1544 - acc: 0.9570 - val_loss: 0.1942 - val_acc: 0.9465\n",
            "Epoch 6/50\n",
            "85327/85327 [==============================] - 47s 552us/sample - loss: 0.1182 - acc: 0.9682 - val_loss: 0.2905 - val_acc: 0.9238\n",
            "------------plotting metrics-----------------\n",
            "------------saving checkpoints-----------------\n",
            "------------evaluating model-----------------\n",
            "39100/39100 - 11s - loss: 0.2719 - acc: 0.9255\n",
            "classification accuracy: 92.55%\n",
            "classification loss: 0.2719\n",
            "train set size\n",
            "(106659, 32, 32, 1) (106659,)\n",
            "test set size\n",
            "(39100, 32, 32, 1) (39100,)\n",
            "------------initializing model-----------------\n",
            "------------training model-----------------\n",
            "Train on 85327 samples, validate on 21332 samples\n",
            "Epoch 1/50\n",
            "85327/85327 [==============================] - 47s 554us/sample - loss: 0.7295 - acc: 0.7651 - val_loss: 0.1030 - val_acc: 0.9760\n",
            "Epoch 2/50\n",
            "85327/85327 [==============================] - 47s 549us/sample - loss: 0.2476 - acc: 0.9321 - val_loss: 0.1849 - val_acc: 0.9532\n",
            "Epoch 3/50\n",
            "85327/85327 [==============================] - 47s 550us/sample - loss: 0.1832 - acc: 0.9504 - val_loss: 0.1176 - val_acc: 0.9708\n",
            "Epoch 4/50\n",
            "85327/85327 [==============================] - 47s 550us/sample - loss: 0.1493 - acc: 0.9596 - val_loss: 0.1449 - val_acc: 0.9650\n",
            "------------plotting metrics-----------------\n",
            "------------saving checkpoints-----------------\n",
            "------------evaluating model-----------------\n",
            "39100/39100 - 11s - loss: 0.1551 - acc: 0.9578\n",
            "classification accuracy: 95.78%\n",
            "classification loss: 0.1551\n",
            "train set size\n",
            "(106659, 32, 32, 1) (106659,)\n",
            "test set size\n",
            "(39100, 32, 32, 1) (39100,)\n",
            "------------initializing model-----------------\n",
            "WARNING:tensorflow:From /tensorflow-1.15.2/python3.6/tensorflow_core/python/keras/initializers.py:119: calling RandomUniform.__init__ (from tensorflow.python.ops.init_ops) with dtype is deprecated and will be removed in a future version.\n",
            "Instructions for updating:\n",
            "Call initializer instance with the dtype argument instead of passing it to the constructor\n",
            "------------training model-----------------\n",
            "Train on 85327 samples, validate on 21332 samples\n",
            "Epoch 1/50\n",
            "85327/85327 [==============================] - 12s 137us/sample - loss: 0.9163 - acc: 0.7077 - val_loss: 0.2893 - val_acc: 0.9631\n",
            "Epoch 2/50\n",
            "85327/85327 [==============================] - 10s 123us/sample - loss: 0.4064 - acc: 0.8785 - val_loss: 0.4276 - val_acc: 0.8954\n",
            "Epoch 3/50\n",
            "85327/85327 [==============================] - 10s 122us/sample - loss: 0.3256 - acc: 0.9041 - val_loss: 0.2288 - val_acc: 0.9887\n",
            "Epoch 4/50\n",
            "85327/85327 [==============================] - 10s 122us/sample - loss: 0.2798 - acc: 0.9180 - val_loss: 0.1650 - val_acc: 0.9759\n",
            "Epoch 5/50\n",
            "85327/85327 [==============================] - 10s 122us/sample - loss: 0.2474 - acc: 0.9283 - val_loss: 0.2657 - val_acc: 0.9460\n",
            "Epoch 6/50\n",
            "85327/85327 [==============================] - 10s 122us/sample - loss: 0.2240 - acc: 0.9346 - val_loss: 0.1098 - val_acc: 0.9812\n",
            "Epoch 7/50\n",
            "85327/85327 [==============================] - 10s 123us/sample - loss: 0.2020 - acc: 0.9402 - val_loss: 0.2191 - val_acc: 0.9633\n",
            "Epoch 8/50\n",
            "85327/85327 [==============================] - 10s 123us/sample - loss: 0.1834 - acc: 0.9460 - val_loss: 0.1242 - val_acc: 0.9771\n",
            "Epoch 9/50\n",
            "85327/85327 [==============================] - 10s 123us/sample - loss: 0.1691 - acc: 0.9494 - val_loss: 0.1460 - val_acc: 0.9650\n",
            "------------plotting metrics-----------------\n",
            "------------saving checkpoints-----------------\n",
            "------------evaluating model-----------------\n",
            "39100/39100 [==============================] - 4s 99us/sample - loss: 0.2185 - acc: 0.9401\n",
            "classification accuracy: 94.01%\n",
            "classification loss: 0.2185\n"
          ],
          "name": "stdout"
        }
      ]
    }
  ]
}